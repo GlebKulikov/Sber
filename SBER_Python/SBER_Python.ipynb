{
 "cells": [
  {
   "cell_type": "markdown",
   "metadata": {},
   "source": [
    "Задание предлагается сделать, используя язык Python3\n",
    "\t\n",
    "На входе есть \n",
    "таблица отделений банка (кол-во записей 100 – 10 000) с \n",
    "полями DIV_ID (ID отделения), CUR_CAPACITY (целое – текущее кол-во клиентов в отделении), \n",
    "MAX_CAPACITY (целое – максимальное кол-во клиентов в отделении)\n",
    "\n",
    "И таблица с клиентами (кол-во записей 1000 – 1 000 000), которым нужно рекомендовать отделение для посещения,\n",
    "                                   с полями CLIENT_ID, DIV1_ID (самое предпочтительное отделение для клиента), \n",
    "                                                       DIV2_ID  (второе предпочтительное отделение для клиента),\n",
    "                                                       DIV3_ID  (третье предпочтительное отделение для клиента)\n",
    "                 \n",
    "Результатом работы программы должна быть таблица CLIENT_ID, DIV_ID\n",
    "в которой мы для каждого клиента рекомендуем одно из отделений DIV1_ID, DIV2_ID, DIV3_ID\n",
    "При этом новая CUR_CAPACITY для каждого отделения (считаем, что каждый клиент \n",
    "согласился  на рекомендацию) не должна превышать MAX_CAPACITY.     \n",
    "(в качестве входных и выходных таблиц можно использовать Pandas dataframe или\n",
    "иную подходящую структуру данных)"
   ]
  },
  {
   "cell_type": "markdown",
   "metadata": {},
   "source": [
    "### Подготовка среды"
   ]
  },
  {
   "cell_type": "code",
   "execution_count": 1,
   "metadata": {},
   "outputs": [],
   "source": [
    "import numpy as np\n",
    "import pandas as pd"
   ]
  },
  {
   "cell_type": "markdown",
   "metadata": {},
   "source": [
    "### Считывание входных данных, их обработка и создание DataFrame для итогового распределения"
   ]
  },
  {
   "cell_type": "code",
   "execution_count": 2,
   "metadata": {},
   "outputs": [],
   "source": [
    "# Загрузка данных клиентов, установка ID клиента в качестве индекса\n",
    "clients = pd.read_excel(\"./KLI.xlsx\").set_index('CLIENT_ID') \n",
    "\n",
    "# Загрузка данных отделений, установка ID отделения в качестве индекса\n",
    "banks = pd.read_excel(\"./BANK.xlsx\").set_index('DIV_ID')\n",
    "\n",
    "# Создание вспомогательного столбца FREE_CAPACITY, который соответствует количеству свободных мест в отделении\n",
    "banks['FREE_CAPACITY'] = banks['MAX_CAPACITY'] - banks['CUR_CAPACITY']\n",
    "\n",
    "# Создание DataFrame для итогового распределния клиентов по отделениям\n",
    "# В качестве индекса устонавливается ID клиента\n",
    "distribution = pd.DataFrame(columns=['CLIENT_ID', 'DIV_ID'], dtype='int64').set_index('CLIENT_ID')"
   ]
  },
  {
   "cell_type": "markdown",
   "metadata": {},
   "source": [
    "### Распределение клиентов по их приоритетным отделениям"
   ]
  },
  {
   "cell_type": "code",
   "execution_count": 3,
   "metadata": {},
   "outputs": [],
   "source": [
    "# Алгоритм заключается в следующем:\n",
    "# Каждый клиент распределяется в свое первое по приоритету отделение\n",
    "# Отбираются те клиенты, которым не хватило места в своем приоритетном отделении\n",
    "# Далее эти клиенты распределяются в свое второе по приоритету отеделение\n",
    "# Если и в этот раз для некоторых из клиентов не хватило места в этих отделениях\n",
    "# Они распределяются в свое третье по приоритету отеделение \n",
    "for div in ['DIV1_ID', 'DIV2_ID', 'DIV3_ID']:\n",
    "    \n",
    "    # grouped_clients - это клиенты сгруппированные по ID текущих приоритетных направлений (DIV1_ID, DIV2_ID, DIV3_ID),\n",
    "    # которым присвоены номера в своей группе \n",
    "    grouped_clients = clients.groupby(div).cumcount().to_frame().rename(columns={0: 'NUMBER_IN_DIV'})\n",
    "    \n",
    "    # div_capacities - количество свободных мест в каждом из отделений (используется для маски)\n",
    "    div_capacities = banks.loc[clients.loc[grouped_clients.index.values][div]]['FREE_CAPACITY'].values\n",
    "    \n",
    "    # numbers_in_divs - это порядковые номера клиентов в своем приоритетном отделении (используется для маски)\n",
    "    numbers_in_divs = grouped_clients['NUMBER_IN_DIV'].values\n",
    "    \n",
    "    # Отбор тех клиентов, для которых нашлись свободные места в отделениях\n",
    "    grouped_clients = grouped_clients[numbers_in_divs < div_capacities]\n",
    "    \n",
    "    # Создается новый столбец, который предстовляет собой ID отделения, в которое попал клиент\n",
    "    grouped_clients = pd.merge(grouped_clients, clients.rename(columns={div: 'DIV_ID'})[\n",
    "        ['DIV_ID']], left_index=True, right_index=True)\n",
    "    \n",
    "    # Учёт изменения количества свободных мест в отделениях:\n",
    "    # Для изменения количества свободных мест в отделениях создается пустой DataFrame с индексами отделений, заполненный нулями\n",
    "    # Из этого DataFrame вычитается количество клиентов попавших в каждое из отделений\n",
    "    # Так как на этом этапе могут возникнуть NaN значения (не все отделения могли быть задействованы)\n",
    "    # Эти значения заменяются нулями\n",
    "    # Получившийся DataFrame представляет собой изменение количества свободных мест в каждом из отделений, \n",
    "    # которые в последствии складываются со столбцом FREE_CAPACITY \n",
    "    banks['FREE_CAPACITY'] += (pd.DataFrame(data=np.zeros(shape=banks.index.size),\n",
    "                                            dtype='int64',\n",
    "                                            index=banks.index)\n",
    "                               .iloc[:, 0] - grouped_clients.groupby('DIV_ID').count().iloc[:, 0]).fillna(0)\n",
    "    \n",
    "    # Сохранение информации о клиентах, которые были распределены \n",
    "    distribution = pd.concat([distribution['DIV_ID'], grouped_clients['DIV_ID']]).to_frame()\n",
    "    \n",
    "    # Удаление информации о распределённых клиентах и переход к следующим по приоритету отделениям \n",
    "    # (для нераспределённых клиентов)\n",
    "    clients.drop(grouped_clients.index, inplace=True)"
   ]
  },
  {
   "cell_type": "markdown",
   "metadata": {},
   "source": [
    "### Вывод результатов"
   ]
  },
  {
   "cell_type": "markdown",
   "metadata": {},
   "source": [
    "#### Нераспределённые клиенты"
   ]
  },
  {
   "cell_type": "code",
   "execution_count": 4,
   "metadata": {},
   "outputs": [
    {
     "data": {
      "text/html": [
       "<div>\n",
       "<style scoped>\n",
       "    .dataframe tbody tr th:only-of-type {\n",
       "        vertical-align: middle;\n",
       "    }\n",
       "\n",
       "    .dataframe tbody tr th {\n",
       "        vertical-align: top;\n",
       "    }\n",
       "\n",
       "    .dataframe thead th {\n",
       "        text-align: right;\n",
       "    }\n",
       "</style>\n",
       "<table border=\"1\" class=\"dataframe\">\n",
       "  <thead>\n",
       "    <tr style=\"text-align: right;\">\n",
       "      <th></th>\n",
       "      <th>DIV1_ID</th>\n",
       "      <th>DIV2_ID</th>\n",
       "      <th>DIV3_ID</th>\n",
       "    </tr>\n",
       "    <tr>\n",
       "      <th>CLIENT_ID</th>\n",
       "      <th></th>\n",
       "      <th></th>\n",
       "      <th></th>\n",
       "    </tr>\n",
       "  </thead>\n",
       "  <tbody>\n",
       "    <tr>\n",
       "      <th>1000</th>\n",
       "      <td>98</td>\n",
       "      <td>98</td>\n",
       "      <td>98</td>\n",
       "    </tr>\n",
       "  </tbody>\n",
       "</table>\n",
       "</div>"
      ],
      "text/plain": [
       "           DIV1_ID  DIV2_ID  DIV3_ID\n",
       "CLIENT_ID                           \n",
       "1000            98       98       98"
      ]
     },
     "execution_count": 4,
     "metadata": {},
     "output_type": "execute_result"
    }
   ],
   "source": [
    "clients #Клиенты, которые никуда не прошли"
   ]
  },
  {
   "cell_type": "markdown",
   "metadata": {},
   "source": [
    "#### Распределённые клиенты"
   ]
  },
  {
   "cell_type": "code",
   "execution_count": 5,
   "metadata": {},
   "outputs": [
    {
     "data": {
      "text/html": [
       "<div>\n",
       "<style scoped>\n",
       "    .dataframe tbody tr th:only-of-type {\n",
       "        vertical-align: middle;\n",
       "    }\n",
       "\n",
       "    .dataframe tbody tr th {\n",
       "        vertical-align: top;\n",
       "    }\n",
       "\n",
       "    .dataframe thead th {\n",
       "        text-align: right;\n",
       "    }\n",
       "</style>\n",
       "<table border=\"1\" class=\"dataframe\">\n",
       "  <thead>\n",
       "    <tr style=\"text-align: right;\">\n",
       "      <th></th>\n",
       "      <th>DIV_ID</th>\n",
       "    </tr>\n",
       "    <tr>\n",
       "      <th>CLIENT_ID</th>\n",
       "      <th></th>\n",
       "    </tr>\n",
       "  </thead>\n",
       "  <tbody>\n",
       "    <tr>\n",
       "      <th>1</th>\n",
       "      <td>10</td>\n",
       "    </tr>\n",
       "    <tr>\n",
       "      <th>2</th>\n",
       "      <td>65</td>\n",
       "    </tr>\n",
       "    <tr>\n",
       "      <th>3</th>\n",
       "      <td>1</td>\n",
       "    </tr>\n",
       "    <tr>\n",
       "      <th>4</th>\n",
       "      <td>95</td>\n",
       "    </tr>\n",
       "    <tr>\n",
       "      <th>5</th>\n",
       "      <td>71</td>\n",
       "    </tr>\n",
       "    <tr>\n",
       "      <th>...</th>\n",
       "      <td>...</td>\n",
       "    </tr>\n",
       "    <tr>\n",
       "      <th>995</th>\n",
       "      <td>14</td>\n",
       "    </tr>\n",
       "    <tr>\n",
       "      <th>996</th>\n",
       "      <td>27</td>\n",
       "    </tr>\n",
       "    <tr>\n",
       "      <th>997</th>\n",
       "      <td>76</td>\n",
       "    </tr>\n",
       "    <tr>\n",
       "      <th>998</th>\n",
       "      <td>39</td>\n",
       "    </tr>\n",
       "    <tr>\n",
       "      <th>999</th>\n",
       "      <td>75</td>\n",
       "    </tr>\n",
       "  </tbody>\n",
       "</table>\n",
       "<p>999 rows × 1 columns</p>\n",
       "</div>"
      ],
      "text/plain": [
       "           DIV_ID\n",
       "CLIENT_ID        \n",
       "1              10\n",
       "2              65\n",
       "3               1\n",
       "4              95\n",
       "5              71\n",
       "...           ...\n",
       "995            14\n",
       "996            27\n",
       "997            76\n",
       "998            39\n",
       "999            75\n",
       "\n",
       "[999 rows x 1 columns]"
      ]
     },
     "execution_count": 5,
     "metadata": {},
     "output_type": "execute_result"
    }
   ],
   "source": [
    "distribution.sort_index() "
   ]
  }
 ],
 "metadata": {
  "kernelspec": {
   "display_name": "Python 3.10.7 64-bit",
   "language": "python",
   "name": "python3"
  },
  "language_info": {
   "codemirror_mode": {
    "name": "ipython",
    "version": 3
   },
   "file_extension": ".py",
   "mimetype": "text/x-python",
   "name": "python",
   "nbconvert_exporter": "python",
   "pygments_lexer": "ipython3",
   "version": "3.10.7"
  },
  "orig_nbformat": 4,
  "vscode": {
   "interpreter": {
    "hash": "6f418c43f522dac67e8d0f9c79db9fa56343ebff05ad90e07420f878e3cb2308"
   }
  }
 },
 "nbformat": 4,
 "nbformat_minor": 2
}
